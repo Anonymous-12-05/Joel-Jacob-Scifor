{
  "nbformat": 4,
  "nbformat_minor": 0,
  "metadata": {
    "colab": {
      "provenance": []
    },
    "kernelspec": {
      "name": "python3",
      "display_name": "Python 3"
    },
    "language_info": {
      "name": "python"
    }
  },
  "cells": [
    {
      "cell_type": "code",
      "execution_count": 19,
      "metadata": {
        "id": "gcStjlWNcIF6"
      },
      "outputs": [],
      "source": [
        "import numpy as np\n",
        "import tensorflow as tf\n",
        "from tensorflow.keras.models import Sequential\n",
        "from tensorflow.keras.layers import SimpleRNN, Dense\n"
      ]
    },
    {
      "cell_type": "code",
      "source": [
        "text = \"Please contact me in the future\"\n",
        "chars = sorted(list(set(text)))\n",
        "char_to_index = {char: i for i, char in enumerate(chars)}\n",
        "index_to_char = {i: char for i, char in enumerate(chars)}\n"
      ],
      "metadata": {
        "id": "rwDWA9IacKkD"
      },
      "execution_count": 20,
      "outputs": []
    },
    {
      "cell_type": "code",
      "source": [
        "char_to_index"
      ],
      "metadata": {
        "colab": {
          "base_uri": "https://localhost:8080/"
        },
        "id": "RIW_bwuFRlb2",
        "outputId": "6c004eba-ad35-4e1a-fe4d-b36856ee3fe6"
      },
      "execution_count": 21,
      "outputs": [
        {
          "output_type": "execute_result",
          "data": {
            "text/plain": [
              "{' ': 0,\n",
              " 'P': 1,\n",
              " 'a': 2,\n",
              " 'c': 3,\n",
              " 'e': 4,\n",
              " 'f': 5,\n",
              " 'h': 6,\n",
              " 'i': 7,\n",
              " 'l': 8,\n",
              " 'm': 9,\n",
              " 'n': 10,\n",
              " 'o': 11,\n",
              " 'r': 12,\n",
              " 's': 13,\n",
              " 't': 14,\n",
              " 'u': 15}"
            ]
          },
          "metadata": {},
          "execution_count": 21
        }
      ]
    },
    {
      "cell_type": "code",
      "source": [
        "index_to_char"
      ],
      "metadata": {
        "colab": {
          "base_uri": "https://localhost:8080/"
        },
        "id": "DqEDoznkRtUl",
        "outputId": "9383db59-e3cf-4be8-9ee9-d43ac9578d28"
      },
      "execution_count": 22,
      "outputs": [
        {
          "output_type": "execute_result",
          "data": {
            "text/plain": [
              "{0: ' ',\n",
              " 1: 'P',\n",
              " 2: 'a',\n",
              " 3: 'c',\n",
              " 4: 'e',\n",
              " 5: 'f',\n",
              " 6: 'h',\n",
              " 7: 'i',\n",
              " 8: 'l',\n",
              " 9: 'm',\n",
              " 10: 'n',\n",
              " 11: 'o',\n",
              " 12: 'r',\n",
              " 13: 's',\n",
              " 14: 't',\n",
              " 15: 'u'}"
            ]
          },
          "metadata": {},
          "execution_count": 22
        }
      ]
    },
    {
      "cell_type": "code",
      "source": [
        "seq_length = 3\n",
        "sequences = []\n",
        "labels = []\n",
        "\n",
        "for i in range(len(text) - seq_length):\n",
        "\tseq = text[i:i+seq_length]\n",
        "\tlabel = text[i+seq_length]\n",
        "\tsequences.append([char_to_index[char] for char in seq])\n",
        "\tlabels.append(char_to_index[label])\n"
      ],
      "metadata": {
        "id": "JjHi1HWpcP9t"
      },
      "execution_count": 23,
      "outputs": []
    },
    {
      "cell_type": "code",
      "source": [
        "labels"
      ],
      "metadata": {
        "colab": {
          "base_uri": "https://localhost:8080/"
        },
        "id": "t7umw-QuRw-j",
        "outputId": "395fd01c-a76e-4b41-b629-5f8783c8087d"
      },
      "execution_count": 24,
      "outputs": [
        {
          "output_type": "execute_result",
          "data": {
            "text/plain": [
              "[2,\n",
              " 13,\n",
              " 4,\n",
              " 0,\n",
              " 3,\n",
              " 11,\n",
              " 10,\n",
              " 14,\n",
              " 2,\n",
              " 3,\n",
              " 14,\n",
              " 0,\n",
              " 9,\n",
              " 4,\n",
              " 0,\n",
              " 7,\n",
              " 10,\n",
              " 0,\n",
              " 14,\n",
              " 6,\n",
              " 4,\n",
              " 0,\n",
              " 5,\n",
              " 15,\n",
              " 14,\n",
              " 15,\n",
              " 12,\n",
              " 4]"
            ]
          },
          "metadata": {},
          "execution_count": 24
        }
      ]
    },
    {
      "cell_type": "code",
      "source": [
        "sequences"
      ],
      "metadata": {
        "colab": {
          "base_uri": "https://localhost:8080/"
        },
        "id": "QFR1aoG9RzrU",
        "outputId": "d1096b98-f57b-48d1-992a-8294911061ae"
      },
      "execution_count": 25,
      "outputs": [
        {
          "output_type": "execute_result",
          "data": {
            "text/plain": [
              "[[1, 8, 4],\n",
              " [8, 4, 2],\n",
              " [4, 2, 13],\n",
              " [2, 13, 4],\n",
              " [13, 4, 0],\n",
              " [4, 0, 3],\n",
              " [0, 3, 11],\n",
              " [3, 11, 10],\n",
              " [11, 10, 14],\n",
              " [10, 14, 2],\n",
              " [14, 2, 3],\n",
              " [2, 3, 14],\n",
              " [3, 14, 0],\n",
              " [14, 0, 9],\n",
              " [0, 9, 4],\n",
              " [9, 4, 0],\n",
              " [4, 0, 7],\n",
              " [0, 7, 10],\n",
              " [7, 10, 0],\n",
              " [10, 0, 14],\n",
              " [0, 14, 6],\n",
              " [14, 6, 4],\n",
              " [6, 4, 0],\n",
              " [4, 0, 5],\n",
              " [0, 5, 15],\n",
              " [5, 15, 14],\n",
              " [15, 14, 15],\n",
              " [14, 15, 12]]"
            ]
          },
          "metadata": {},
          "execution_count": 25
        }
      ]
    },
    {
      "cell_type": "code",
      "source": [
        "X = np.array(sequences)\n",
        "y = np.array(labels)\n",
        "\n",
        "X_one_hot = tf.one_hot(X, len(chars))\n",
        "y_one_hot = tf.one_hot(y, len(chars))\n"
      ],
      "metadata": {
        "id": "5VOZ5OT-cSNc"
      },
      "execution_count": 26,
      "outputs": []
    },
    {
      "cell_type": "code",
      "source": [
        "X"
      ],
      "metadata": {
        "colab": {
          "base_uri": "https://localhost:8080/"
        },
        "id": "-939ia2aR39q",
        "outputId": "d0340b5a-19fe-41cb-ac53-e7e0a1167a20"
      },
      "execution_count": 27,
      "outputs": [
        {
          "output_type": "execute_result",
          "data": {
            "text/plain": [
              "array([[ 1,  8,  4],\n",
              "       [ 8,  4,  2],\n",
              "       [ 4,  2, 13],\n",
              "       [ 2, 13,  4],\n",
              "       [13,  4,  0],\n",
              "       [ 4,  0,  3],\n",
              "       [ 0,  3, 11],\n",
              "       [ 3, 11, 10],\n",
              "       [11, 10, 14],\n",
              "       [10, 14,  2],\n",
              "       [14,  2,  3],\n",
              "       [ 2,  3, 14],\n",
              "       [ 3, 14,  0],\n",
              "       [14,  0,  9],\n",
              "       [ 0,  9,  4],\n",
              "       [ 9,  4,  0],\n",
              "       [ 4,  0,  7],\n",
              "       [ 0,  7, 10],\n",
              "       [ 7, 10,  0],\n",
              "       [10,  0, 14],\n",
              "       [ 0, 14,  6],\n",
              "       [14,  6,  4],\n",
              "       [ 6,  4,  0],\n",
              "       [ 4,  0,  5],\n",
              "       [ 0,  5, 15],\n",
              "       [ 5, 15, 14],\n",
              "       [15, 14, 15],\n",
              "       [14, 15, 12]])"
            ]
          },
          "metadata": {},
          "execution_count": 27
        }
      ]
    },
    {
      "cell_type": "code",
      "source": [
        "y"
      ],
      "metadata": {
        "colab": {
          "base_uri": "https://localhost:8080/"
        },
        "id": "LYN8-N-sR_Ob",
        "outputId": "43535e79-5e5b-456f-90f4-afa0f80483c6"
      },
      "execution_count": 28,
      "outputs": [
        {
          "output_type": "execute_result",
          "data": {
            "text/plain": [
              "array([ 2, 13,  4,  0,  3, 11, 10, 14,  2,  3, 14,  0,  9,  4,  0,  7, 10,\n",
              "        0, 14,  6,  4,  0,  5, 15, 14, 15, 12,  4])"
            ]
          },
          "metadata": {},
          "execution_count": 28
        }
      ]
    },
    {
      "cell_type": "code",
      "source": [
        "X_one_hot"
      ],
      "metadata": {
        "colab": {
          "base_uri": "https://localhost:8080/"
        },
        "id": "Xjk5lHvRSCyZ",
        "outputId": "7db9283d-cf85-4312-eaf8-7ba841840a77"
      },
      "execution_count": 29,
      "outputs": [
        {
          "output_type": "execute_result",
          "data": {
            "text/plain": [
              "<tf.Tensor: shape=(28, 3, 16), dtype=float32, numpy=\n",
              "array([[[0., 1., 0., ..., 0., 0., 0.],\n",
              "        [0., 0., 0., ..., 0., 0., 0.],\n",
              "        [0., 0., 0., ..., 0., 0., 0.]],\n",
              "\n",
              "       [[0., 0., 0., ..., 0., 0., 0.],\n",
              "        [0., 0., 0., ..., 0., 0., 0.],\n",
              "        [0., 0., 1., ..., 0., 0., 0.]],\n",
              "\n",
              "       [[0., 0., 0., ..., 0., 0., 0.],\n",
              "        [0., 0., 1., ..., 0., 0., 0.],\n",
              "        [0., 0., 0., ..., 1., 0., 0.]],\n",
              "\n",
              "       ...,\n",
              "\n",
              "       [[0., 0., 0., ..., 0., 0., 0.],\n",
              "        [0., 0., 0., ..., 0., 0., 1.],\n",
              "        [0., 0., 0., ..., 0., 1., 0.]],\n",
              "\n",
              "       [[0., 0., 0., ..., 0., 0., 1.],\n",
              "        [0., 0., 0., ..., 0., 1., 0.],\n",
              "        [0., 0., 0., ..., 0., 0., 1.]],\n",
              "\n",
              "       [[0., 0., 0., ..., 0., 1., 0.],\n",
              "        [0., 0., 0., ..., 0., 0., 1.],\n",
              "        [0., 0., 0., ..., 0., 0., 0.]]], dtype=float32)>"
            ]
          },
          "metadata": {},
          "execution_count": 29
        }
      ]
    },
    {
      "cell_type": "code",
      "source": [
        "y_one_hot"
      ],
      "metadata": {
        "colab": {
          "base_uri": "https://localhost:8080/"
        },
        "id": "sVGO1jK3SE9J",
        "outputId": "03e18ded-cd1b-4aeb-86ad-24d6f8f3dbc0"
      },
      "execution_count": 30,
      "outputs": [
        {
          "output_type": "execute_result",
          "data": {
            "text/plain": [
              "<tf.Tensor: shape=(28, 16), dtype=float32, numpy=\n",
              "array([[0., 0., 1., 0., 0., 0., 0., 0., 0., 0., 0., 0., 0., 0., 0., 0.],\n",
              "       [0., 0., 0., 0., 0., 0., 0., 0., 0., 0., 0., 0., 0., 1., 0., 0.],\n",
              "       [0., 0., 0., 0., 1., 0., 0., 0., 0., 0., 0., 0., 0., 0., 0., 0.],\n",
              "       [1., 0., 0., 0., 0., 0., 0., 0., 0., 0., 0., 0., 0., 0., 0., 0.],\n",
              "       [0., 0., 0., 1., 0., 0., 0., 0., 0., 0., 0., 0., 0., 0., 0., 0.],\n",
              "       [0., 0., 0., 0., 0., 0., 0., 0., 0., 0., 0., 1., 0., 0., 0., 0.],\n",
              "       [0., 0., 0., 0., 0., 0., 0., 0., 0., 0., 1., 0., 0., 0., 0., 0.],\n",
              "       [0., 0., 0., 0., 0., 0., 0., 0., 0., 0., 0., 0., 0., 0., 1., 0.],\n",
              "       [0., 0., 1., 0., 0., 0., 0., 0., 0., 0., 0., 0., 0., 0., 0., 0.],\n",
              "       [0., 0., 0., 1., 0., 0., 0., 0., 0., 0., 0., 0., 0., 0., 0., 0.],\n",
              "       [0., 0., 0., 0., 0., 0., 0., 0., 0., 0., 0., 0., 0., 0., 1., 0.],\n",
              "       [1., 0., 0., 0., 0., 0., 0., 0., 0., 0., 0., 0., 0., 0., 0., 0.],\n",
              "       [0., 0., 0., 0., 0., 0., 0., 0., 0., 1., 0., 0., 0., 0., 0., 0.],\n",
              "       [0., 0., 0., 0., 1., 0., 0., 0., 0., 0., 0., 0., 0., 0., 0., 0.],\n",
              "       [1., 0., 0., 0., 0., 0., 0., 0., 0., 0., 0., 0., 0., 0., 0., 0.],\n",
              "       [0., 0., 0., 0., 0., 0., 0., 1., 0., 0., 0., 0., 0., 0., 0., 0.],\n",
              "       [0., 0., 0., 0., 0., 0., 0., 0., 0., 0., 1., 0., 0., 0., 0., 0.],\n",
              "       [1., 0., 0., 0., 0., 0., 0., 0., 0., 0., 0., 0., 0., 0., 0., 0.],\n",
              "       [0., 0., 0., 0., 0., 0., 0., 0., 0., 0., 0., 0., 0., 0., 1., 0.],\n",
              "       [0., 0., 0., 0., 0., 0., 1., 0., 0., 0., 0., 0., 0., 0., 0., 0.],\n",
              "       [0., 0., 0., 0., 1., 0., 0., 0., 0., 0., 0., 0., 0., 0., 0., 0.],\n",
              "       [1., 0., 0., 0., 0., 0., 0., 0., 0., 0., 0., 0., 0., 0., 0., 0.],\n",
              "       [0., 0., 0., 0., 0., 1., 0., 0., 0., 0., 0., 0., 0., 0., 0., 0.],\n",
              "       [0., 0., 0., 0., 0., 0., 0., 0., 0., 0., 0., 0., 0., 0., 0., 1.],\n",
              "       [0., 0., 0., 0., 0., 0., 0., 0., 0., 0., 0., 0., 0., 0., 1., 0.],\n",
              "       [0., 0., 0., 0., 0., 0., 0., 0., 0., 0., 0., 0., 0., 0., 0., 1.],\n",
              "       [0., 0., 0., 0., 0., 0., 0., 0., 0., 0., 0., 0., 1., 0., 0., 0.],\n",
              "       [0., 0., 0., 0., 1., 0., 0., 0., 0., 0., 0., 0., 0., 0., 0., 0.]],\n",
              "      dtype=float32)>"
            ]
          },
          "metadata": {},
          "execution_count": 30
        }
      ]
    },
    {
      "cell_type": "code",
      "source": [
        "model = Sequential()\n",
        "model.add(SimpleRNN(50, input_shape=(seq_length, len(chars)), activation='relu'))\n",
        "model.add(Dense(len(chars), activation='softmax'))\n"
      ],
      "metadata": {
        "id": "RXg78XTKcVGU"
      },
      "execution_count": 31,
      "outputs": []
    },
    {
      "cell_type": "code",
      "source": [
        "model.compile(optimizer='adam', loss='categorical_crossentropy', metrics=['accuracy'])\n"
      ],
      "metadata": {
        "id": "Z3ZC-grVcZd9"
      },
      "execution_count": 32,
      "outputs": []
    },
    {
      "cell_type": "code",
      "source": [
        "model.fit(X_one_hot, y_one_hot, epochs=100)\n"
      ],
      "metadata": {
        "colab": {
          "base_uri": "https://localhost:8080/"
        },
        "id": "zQChr9xqcb0g",
        "outputId": "6ae90591-d123-4609-ec61-cedce4bc61cc"
      },
      "execution_count": 33,
      "outputs": [
        {
          "output_type": "stream",
          "name": "stdout",
          "text": [
            "Epoch 1/100\n",
            "1/1 [==============================] - 1s 1s/step - loss: 2.7331 - accuracy: 0.0714\n",
            "Epoch 2/100\n",
            "1/1 [==============================] - 0s 14ms/step - loss: 2.7136 - accuracy: 0.0714\n",
            "Epoch 3/100\n",
            "1/1 [==============================] - 0s 12ms/step - loss: 2.6945 - accuracy: 0.0714\n",
            "Epoch 4/100\n",
            "1/1 [==============================] - 0s 12ms/step - loss: 2.6754 - accuracy: 0.1429\n",
            "Epoch 5/100\n",
            "1/1 [==============================] - 0s 12ms/step - loss: 2.6567 - accuracy: 0.1429\n",
            "Epoch 6/100\n",
            "1/1 [==============================] - 0s 12ms/step - loss: 2.6382 - accuracy: 0.1429\n",
            "Epoch 7/100\n",
            "1/1 [==============================] - 0s 11ms/step - loss: 2.6198 - accuracy: 0.1786\n",
            "Epoch 8/100\n",
            "1/1 [==============================] - 0s 12ms/step - loss: 2.6016 - accuracy: 0.2500\n",
            "Epoch 9/100\n",
            "1/1 [==============================] - 0s 11ms/step - loss: 2.5832 - accuracy: 0.2500\n",
            "Epoch 10/100\n",
            "1/1 [==============================] - 0s 12ms/step - loss: 2.5647 - accuracy: 0.3214\n",
            "Epoch 11/100\n",
            "1/1 [==============================] - 0s 12ms/step - loss: 2.5460 - accuracy: 0.3214\n",
            "Epoch 12/100\n",
            "1/1 [==============================] - 0s 12ms/step - loss: 2.5273 - accuracy: 0.3214\n",
            "Epoch 13/100\n",
            "1/1 [==============================] - 0s 15ms/step - loss: 2.5086 - accuracy: 0.3571\n",
            "Epoch 14/100\n",
            "1/1 [==============================] - 0s 11ms/step - loss: 2.4901 - accuracy: 0.3571\n",
            "Epoch 15/100\n",
            "1/1 [==============================] - 0s 11ms/step - loss: 2.4712 - accuracy: 0.3929\n",
            "Epoch 16/100\n",
            "1/1 [==============================] - 0s 11ms/step - loss: 2.4521 - accuracy: 0.4286\n",
            "Epoch 17/100\n",
            "1/1 [==============================] - 0s 12ms/step - loss: 2.4328 - accuracy: 0.4286\n",
            "Epoch 18/100\n",
            "1/1 [==============================] - 0s 11ms/step - loss: 2.4133 - accuracy: 0.4286\n",
            "Epoch 19/100\n",
            "1/1 [==============================] - 0s 10ms/step - loss: 2.3934 - accuracy: 0.3929\n",
            "Epoch 20/100\n",
            "1/1 [==============================] - 0s 12ms/step - loss: 2.3731 - accuracy: 0.3929\n",
            "Epoch 21/100\n",
            "1/1 [==============================] - 0s 13ms/step - loss: 2.3525 - accuracy: 0.3929\n",
            "Epoch 22/100\n",
            "1/1 [==============================] - 0s 12ms/step - loss: 2.3315 - accuracy: 0.3929\n",
            "Epoch 23/100\n",
            "1/1 [==============================] - 0s 13ms/step - loss: 2.3102 - accuracy: 0.3929\n",
            "Epoch 24/100\n",
            "1/1 [==============================] - 0s 11ms/step - loss: 2.2887 - accuracy: 0.3571\n",
            "Epoch 25/100\n",
            "1/1 [==============================] - 0s 13ms/step - loss: 2.2670 - accuracy: 0.3571\n",
            "Epoch 26/100\n",
            "1/1 [==============================] - 0s 11ms/step - loss: 2.2450 - accuracy: 0.3571\n",
            "Epoch 27/100\n",
            "1/1 [==============================] - 0s 13ms/step - loss: 2.2228 - accuracy: 0.3929\n",
            "Epoch 28/100\n",
            "1/1 [==============================] - 0s 14ms/step - loss: 2.2003 - accuracy: 0.3929\n",
            "Epoch 29/100\n",
            "1/1 [==============================] - 0s 12ms/step - loss: 2.1775 - accuracy: 0.3929\n",
            "Epoch 30/100\n",
            "1/1 [==============================] - 0s 12ms/step - loss: 2.1546 - accuracy: 0.3929\n",
            "Epoch 31/100\n",
            "1/1 [==============================] - 0s 11ms/step - loss: 2.1314 - accuracy: 0.3929\n",
            "Epoch 32/100\n",
            "1/1 [==============================] - 0s 10ms/step - loss: 2.1080 - accuracy: 0.3929\n",
            "Epoch 33/100\n",
            "1/1 [==============================] - 0s 11ms/step - loss: 2.0842 - accuracy: 0.3929\n",
            "Epoch 34/100\n",
            "1/1 [==============================] - 0s 11ms/step - loss: 2.0605 - accuracy: 0.3929\n",
            "Epoch 35/100\n",
            "1/1 [==============================] - 0s 14ms/step - loss: 2.0369 - accuracy: 0.3929\n",
            "Epoch 36/100\n",
            "1/1 [==============================] - 0s 21ms/step - loss: 2.0127 - accuracy: 0.3929\n",
            "Epoch 37/100\n",
            "1/1 [==============================] - 0s 14ms/step - loss: 1.9886 - accuracy: 0.4286\n",
            "Epoch 38/100\n",
            "1/1 [==============================] - 0s 11ms/step - loss: 1.9645 - accuracy: 0.4286\n",
            "Epoch 39/100\n",
            "1/1 [==============================] - 0s 11ms/step - loss: 1.9405 - accuracy: 0.4286\n",
            "Epoch 40/100\n",
            "1/1 [==============================] - 0s 11ms/step - loss: 1.9165 - accuracy: 0.4286\n",
            "Epoch 41/100\n",
            "1/1 [==============================] - 0s 16ms/step - loss: 1.8924 - accuracy: 0.4286\n",
            "Epoch 42/100\n",
            "1/1 [==============================] - 0s 11ms/step - loss: 1.8680 - accuracy: 0.4286\n",
            "Epoch 43/100\n",
            "1/1 [==============================] - 0s 11ms/step - loss: 1.8437 - accuracy: 0.4286\n",
            "Epoch 44/100\n",
            "1/1 [==============================] - 0s 13ms/step - loss: 1.8193 - accuracy: 0.4286\n",
            "Epoch 45/100\n",
            "1/1 [==============================] - 0s 11ms/step - loss: 1.7949 - accuracy: 0.4286\n",
            "Epoch 46/100\n",
            "1/1 [==============================] - 0s 14ms/step - loss: 1.7705 - accuracy: 0.4643\n",
            "Epoch 47/100\n",
            "1/1 [==============================] - 0s 12ms/step - loss: 1.7461 - accuracy: 0.4643\n",
            "Epoch 48/100\n",
            "1/1 [==============================] - 0s 12ms/step - loss: 1.7216 - accuracy: 0.4643\n",
            "Epoch 49/100\n",
            "1/1 [==============================] - 0s 11ms/step - loss: 1.6972 - accuracy: 0.4643\n",
            "Epoch 50/100\n",
            "1/1 [==============================] - 0s 10ms/step - loss: 1.6726 - accuracy: 0.4643\n",
            "Epoch 51/100\n",
            "1/1 [==============================] - 0s 11ms/step - loss: 1.6478 - accuracy: 0.5000\n",
            "Epoch 52/100\n",
            "1/1 [==============================] - 0s 11ms/step - loss: 1.6230 - accuracy: 0.5000\n",
            "Epoch 53/100\n",
            "1/1 [==============================] - 0s 13ms/step - loss: 1.5980 - accuracy: 0.5000\n",
            "Epoch 54/100\n",
            "1/1 [==============================] - 0s 11ms/step - loss: 1.5728 - accuracy: 0.5000\n",
            "Epoch 55/100\n",
            "1/1 [==============================] - 0s 11ms/step - loss: 1.5475 - accuracy: 0.5357\n",
            "Epoch 56/100\n",
            "1/1 [==============================] - 0s 14ms/step - loss: 1.5220 - accuracy: 0.5357\n",
            "Epoch 57/100\n",
            "1/1 [==============================] - 0s 11ms/step - loss: 1.4965 - accuracy: 0.5357\n",
            "Epoch 58/100\n",
            "1/1 [==============================] - 0s 12ms/step - loss: 1.4708 - accuracy: 0.5357\n",
            "Epoch 59/100\n",
            "1/1 [==============================] - 0s 12ms/step - loss: 1.4450 - accuracy: 0.5357\n",
            "Epoch 60/100\n",
            "1/1 [==============================] - 0s 11ms/step - loss: 1.4191 - accuracy: 0.5714\n",
            "Epoch 61/100\n",
            "1/1 [==============================] - 0s 12ms/step - loss: 1.3931 - accuracy: 0.5714\n",
            "Epoch 62/100\n",
            "1/1 [==============================] - 0s 12ms/step - loss: 1.3670 - accuracy: 0.5714\n",
            "Epoch 63/100\n",
            "1/1 [==============================] - 0s 11ms/step - loss: 1.3411 - accuracy: 0.6429\n",
            "Epoch 64/100\n",
            "1/1 [==============================] - 0s 11ms/step - loss: 1.3152 - accuracy: 0.6429\n",
            "Epoch 65/100\n",
            "1/1 [==============================] - 0s 12ms/step - loss: 1.2892 - accuracy: 0.7500\n",
            "Epoch 66/100\n",
            "1/1 [==============================] - 0s 11ms/step - loss: 1.2630 - accuracy: 0.7500\n",
            "Epoch 67/100\n",
            "1/1 [==============================] - 0s 11ms/step - loss: 1.2367 - accuracy: 0.7857\n",
            "Epoch 68/100\n",
            "1/1 [==============================] - 0s 13ms/step - loss: 1.2104 - accuracy: 0.7857\n",
            "Epoch 69/100\n",
            "1/1 [==============================] - 0s 11ms/step - loss: 1.1840 - accuracy: 0.8214\n",
            "Epoch 70/100\n",
            "1/1 [==============================] - 0s 11ms/step - loss: 1.1574 - accuracy: 0.8214\n",
            "Epoch 71/100\n",
            "1/1 [==============================] - 0s 11ms/step - loss: 1.1308 - accuracy: 0.8214\n",
            "Epoch 72/100\n",
            "1/1 [==============================] - 0s 11ms/step - loss: 1.1044 - accuracy: 0.8214\n",
            "Epoch 73/100\n",
            "1/1 [==============================] - 0s 11ms/step - loss: 1.0780 - accuracy: 0.8214\n",
            "Epoch 74/100\n",
            "1/1 [==============================] - 0s 11ms/step - loss: 1.0518 - accuracy: 0.8214\n",
            "Epoch 75/100\n",
            "1/1 [==============================] - 0s 11ms/step - loss: 1.0257 - accuracy: 0.8214\n",
            "Epoch 76/100\n",
            "1/1 [==============================] - 0s 11ms/step - loss: 0.9996 - accuracy: 0.8214\n",
            "Epoch 77/100\n",
            "1/1 [==============================] - 0s 11ms/step - loss: 0.9736 - accuracy: 0.8214\n",
            "Epoch 78/100\n",
            "1/1 [==============================] - 0s 17ms/step - loss: 0.9479 - accuracy: 0.8571\n",
            "Epoch 79/100\n",
            "1/1 [==============================] - 0s 12ms/step - loss: 0.9222 - accuracy: 0.8571\n",
            "Epoch 80/100\n",
            "1/1 [==============================] - 0s 11ms/step - loss: 0.8969 - accuracy: 0.8929\n",
            "Epoch 81/100\n",
            "1/1 [==============================] - 0s 15ms/step - loss: 0.8719 - accuracy: 0.9286\n",
            "Epoch 82/100\n",
            "1/1 [==============================] - 0s 13ms/step - loss: 0.8472 - accuracy: 0.9643\n",
            "Epoch 83/100\n",
            "1/1 [==============================] - 0s 13ms/step - loss: 0.8228 - accuracy: 0.9643\n",
            "Epoch 84/100\n",
            "1/1 [==============================] - 0s 13ms/step - loss: 0.7987 - accuracy: 0.9643\n",
            "Epoch 85/100\n",
            "1/1 [==============================] - 0s 11ms/step - loss: 0.7749 - accuracy: 1.0000\n",
            "Epoch 86/100\n",
            "1/1 [==============================] - 0s 11ms/step - loss: 0.7513 - accuracy: 1.0000\n",
            "Epoch 87/100\n",
            "1/1 [==============================] - 0s 11ms/step - loss: 0.7282 - accuracy: 1.0000\n",
            "Epoch 88/100\n",
            "1/1 [==============================] - 0s 12ms/step - loss: 0.7055 - accuracy: 1.0000\n",
            "Epoch 89/100\n",
            "1/1 [==============================] - 0s 15ms/step - loss: 0.6833 - accuracy: 1.0000\n",
            "Epoch 90/100\n",
            "1/1 [==============================] - 0s 11ms/step - loss: 0.6615 - accuracy: 1.0000\n",
            "Epoch 91/100\n",
            "1/1 [==============================] - 0s 11ms/step - loss: 0.6401 - accuracy: 1.0000\n",
            "Epoch 92/100\n",
            "1/1 [==============================] - 0s 11ms/step - loss: 0.6192 - accuracy: 1.0000\n",
            "Epoch 93/100\n",
            "1/1 [==============================] - 0s 10ms/step - loss: 0.5989 - accuracy: 1.0000\n",
            "Epoch 94/100\n",
            "1/1 [==============================] - 0s 11ms/step - loss: 0.5791 - accuracy: 1.0000\n",
            "Epoch 95/100\n",
            "1/1 [==============================] - 0s 13ms/step - loss: 0.5600 - accuracy: 1.0000\n",
            "Epoch 96/100\n",
            "1/1 [==============================] - 0s 11ms/step - loss: 0.5414 - accuracy: 1.0000\n",
            "Epoch 97/100\n",
            "1/1 [==============================] - 0s 14ms/step - loss: 0.5233 - accuracy: 1.0000\n",
            "Epoch 98/100\n",
            "1/1 [==============================] - 0s 10ms/step - loss: 0.5058 - accuracy: 1.0000\n",
            "Epoch 99/100\n",
            "1/1 [==============================] - 0s 16ms/step - loss: 0.4890 - accuracy: 1.0000\n",
            "Epoch 100/100\n",
            "1/1 [==============================] - 0s 12ms/step - loss: 0.4726 - accuracy: 1.0000\n"
          ]
        },
        {
          "output_type": "execute_result",
          "data": {
            "text/plain": [
              "<keras.src.callbacks.History at 0x79d8ba3ab070>"
            ]
          },
          "metadata": {},
          "execution_count": 33
        }
      ]
    },
    {
      "cell_type": "code",
      "source": [
        "start_seq = \"Please contact \"\n",
        "generated_text = start_seq\n",
        "\n",
        "for i in range(50):\n",
        "\tx = np.array([[char_to_index[char] for char in generated_text[-seq_length:]]])\n",
        "\tx_one_hot = tf.one_hot(x, len(chars))\n",
        "\tprediction = model.predict(x_one_hot)\n",
        "\tnext_index = np.argmax(prediction)\n",
        "\tnext_char = index_to_char[next_index]\n",
        "\tgenerated_text += next_char\n",
        "\n",
        "print(\"Generated Text:\")\n",
        "print(generated_text)\n"
      ],
      "metadata": {
        "colab": {
          "base_uri": "https://localhost:8080/"
        },
        "id": "sHFppkBhcgD-",
        "outputId": "08d8f34e-5457-4846-c688-390f12a920aa"
      },
      "execution_count": 35,
      "outputs": [
        {
          "output_type": "stream",
          "name": "stdout",
          "text": [
            "1/1 [==============================] - 0s 143ms/step\n",
            "1/1 [==============================] - 0s 21ms/step\n",
            "1/1 [==============================] - 0s 23ms/step\n",
            "1/1 [==============================] - 0s 19ms/step\n",
            "1/1 [==============================] - 0s 20ms/step\n",
            "1/1 [==============================] - 0s 20ms/step\n",
            "1/1 [==============================] - 0s 22ms/step\n",
            "1/1 [==============================] - 0s 21ms/step\n",
            "1/1 [==============================] - 0s 20ms/step\n",
            "1/1 [==============================] - 0s 21ms/step\n",
            "1/1 [==============================] - 0s 21ms/step\n",
            "1/1 [==============================] - 0s 20ms/step\n",
            "1/1 [==============================] - 0s 25ms/step\n",
            "1/1 [==============================] - 0s 22ms/step\n",
            "1/1 [==============================] - 0s 21ms/step\n",
            "1/1 [==============================] - 0s 21ms/step\n",
            "1/1 [==============================] - 0s 20ms/step\n",
            "1/1 [==============================] - 0s 20ms/step\n",
            "1/1 [==============================] - 0s 41ms/step\n",
            "1/1 [==============================] - 0s 54ms/step\n",
            "1/1 [==============================] - 0s 51ms/step\n",
            "1/1 [==============================] - 0s 75ms/step\n",
            "1/1 [==============================] - 0s 71ms/step\n",
            "1/1 [==============================] - 0s 33ms/step\n",
            "1/1 [==============================] - 0s 62ms/step\n",
            "1/1 [==============================] - 0s 21ms/step\n",
            "1/1 [==============================] - 0s 24ms/step\n",
            "1/1 [==============================] - 0s 22ms/step\n",
            "1/1 [==============================] - 0s 21ms/step\n",
            "1/1 [==============================] - 0s 21ms/step\n",
            "1/1 [==============================] - 0s 23ms/step\n",
            "1/1 [==============================] - 0s 21ms/step\n",
            "1/1 [==============================] - 0s 21ms/step\n",
            "1/1 [==============================] - 0s 29ms/step\n",
            "1/1 [==============================] - 0s 20ms/step\n",
            "1/1 [==============================] - 0s 21ms/step\n",
            "1/1 [==============================] - 0s 20ms/step\n",
            "1/1 [==============================] - 0s 22ms/step\n",
            "1/1 [==============================] - 0s 21ms/step\n",
            "1/1 [==============================] - 0s 20ms/step\n",
            "1/1 [==============================] - 0s 19ms/step\n",
            "1/1 [==============================] - 0s 20ms/step\n",
            "1/1 [==============================] - 0s 23ms/step\n",
            "1/1 [==============================] - 0s 23ms/step\n",
            "1/1 [==============================] - 0s 24ms/step\n",
            "1/1 [==============================] - 0s 21ms/step\n",
            "1/1 [==============================] - 0s 24ms/step\n",
            "1/1 [==============================] - 0s 20ms/step\n",
            "1/1 [==============================] - 0s 20ms/step\n",
            "1/1 [==============================] - 0s 24ms/step\n",
            "Generated Text:\n",
            "Please contact me in the future contact me in the future contact \n"
          ]
        }
      ]
    },
    {
      "cell_type": "code",
      "source": [
        "# Assuming you have a separate test set (X_test, y_test) for evaluation\n",
        "# If you don't have a separate test set, you can use a validation set or split your data accordingly\n",
        "\n",
        "# Evaluate the model on the test set\n",
        "evaluation_results = model.evaluate(X_one_hot, y_one_hot)\n",
        "\n",
        "# Print the evaluation results\n",
        "print(\"Evaluation Loss:\", evaluation_results[0])\n",
        "print(\"Evaluation Accuracy:\", evaluation_results[1])\n"
      ],
      "metadata": {
        "colab": {
          "base_uri": "https://localhost:8080/"
        },
        "id": "RL5NFkBEZ7md",
        "outputId": "8742b450-6bdf-4086-b190-25a6c0be9627"
      },
      "execution_count": 36,
      "outputs": [
        {
          "output_type": "stream",
          "name": "stdout",
          "text": [
            "1/1 [==============================] - 0s 310ms/step - loss: 0.4568 - accuracy: 1.0000\n",
            "Evaluation Loss: 0.4568287432193756\n",
            "Evaluation Accuracy: 1.0\n"
          ]
        }
      ]
    }
  ]
}